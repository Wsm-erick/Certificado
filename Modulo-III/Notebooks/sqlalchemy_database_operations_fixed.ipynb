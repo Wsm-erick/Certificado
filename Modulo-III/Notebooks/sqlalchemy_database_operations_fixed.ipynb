{
 "cells": [
  {
   "cell_type": "markdown",
   "metadata": {},
   "source": [
    "# Operaciones con Base de Datos SQLite usando SQLAlchemy\n",
    "\n",
    "Este notebook demuestra cómo interactuar con una base de datos SQLite usando SQLAlchemy en Python. La base de datos `bd_negocio2.db` contiene dos tablas: `negocios_uno` y `negocios_dos`, cargadas desde archivos CSV.\n",
    "\n",
    "Cubriremos los siguientes temas, reforzando aspectos teóricos:\n",
    "\n",
    "- **Realización de operaciones CRUD (Create, Read, Update, Delete) desde Python**\n",
    "- **Consultas avanzadas en SQLAlchemy (JOINs, filtrado, agrupación)**\n",
    "- **Optimización de consultas en bases de datos relacionales**\n",
    "- **Ejercicio práctico: Optimización y consulta de grandes volúmenes de datos**\n",
    "\n",
    "**Nota teórica general:** SQLAlchemy es un ORM (Object-Relational Mapping) que permite mapear clases Python a tablas de bases de datos, facilitando operaciones de alto nivel mientras mantiene la flexibilidad de SQL puro. Esto promueve el principio de \"Don't Repeat Yourself\" (DRY) y mejora la mantenibilidad del código."
   ]
  },
  {
   "cell_type": "markdown",
   "metadata": {},
   "source": [
    "## Configuración Inicial\n",
    "\n",
    "Importamos las librerías necesarias y configuramos la conexión a la base de datos."
   ]
  },
  {
   "cell_type": "code",
   "execution_count": 9,
   "metadata": {},
   "outputs": [],
   "source": [
    "import sqlalchemy as db\n",
    "from sqlalchemy import create_engine, Column, Integer, String, Date, Numeric, ForeignKey, Text, Float, func\n",
    "from sqlalchemy.ext.declarative import declarative_base\n",
    "from sqlalchemy.orm import sessionmaker, joinedload, relationship\n",
    "from sqlalchemy import text\n",
    "from sqlalchemy.exc import SQLAlchemyError\n",
    "\n",
    "import pandas as pd\n",
    "from datetime import datetime"
   ]
  },
  {
   "cell_type": "code",
   "execution_count": 10,
   "metadata": {},
   "outputs": [],
   "source": [
    "# Crear el motor de conexión a la base de datos SQLite\n",
    "engine = create_engine('sqlite:///bd_negocio2.db', echo=True)  # echo=True para ver logs SQL"
   ]
  },
  {
   "cell_type": "code",
   "execution_count": 11,
   "metadata": {},
   "outputs": [],
   "source": [
    "# Crear sesión para interactuar con la base de datos\n",
    "Session = sessionmaker(bind=engine)\n",
    "session = Session()"
   ]
  },
  {
   "cell_type": "code",
   "execution_count": 12,
   "metadata": {
    "lines_to_next_cell": 1
   },
   "outputs": [],
   "source": [
    "# Definir la base para modelos declarativos\n",
    "Base = declarative_base()"
   ]
  },
  {
   "cell_type": "markdown",
   "metadata": {},
   "source": [
    "## Definición de Modelos\n",
    "\n",
    "Definimos modelos para ambas tablas asumiendo estructuras similares basadas en el esquema proporcionado. Si las tablas difieren, ajusta las columnas accordingly."
   ]
  },
  {
   "cell_type": "code",
   "execution_count": 16,
   "metadata": {
    "lines_to_next_cell": 1
   },
   "outputs": [
    {
     "name": "stderr",
     "output_type": "stream",
     "text": [
      "C:\\Users\\113167\\Anaconda3\\lib\\site-packages\\sqlalchemy\\ext\\declarative\\clsregistry.py:129: SAWarning: This declarative base already contains a class with the same class name and module name as __main__.NegociosUno, and will be replaced in the string-lookup table.\n",
      "  % (item.__module__, item.__name__)\n"
     ]
    }
   ],
   "source": [
    "class NegociosUno(Base):\n",
    "    __tablename__ = 'negocios_uno'  # Nombre de la tabla desde el script anterior\n",
    "    __table_args__ = {'extend_existing': True}\n",
    "\n",
    "    tipdoc = Column(String)\n",
    "    numdoc = Column(String, primary_key=True)\n",
    "    fcre = Column(Date)\n",
    "    monto_mes_ini = Column(Float)\n",
    "    cuota_mes_ini = Column(Float)\n",
    "    ncuota_mes_ini = Column(Integer)\n",
    "    tasa_mes_ini = Column(Float)\n",
    "    saldo_mes_20151231 = Column(Float)\n",
    "    Flg_Refin_Jud_Cast_6m = Column(Integer)\n",
    "    per_perdida_6m = Column(String)\n",
    "    SALDO_ANTES_PERD_6m = Column(Float)\n",
    "    recuperado_flg_6m = Column(Integer)\n",
    "    recuperado_periodo_6m = Column(Integer)\n",
    "    fuga_periodo_6m = Column(Integer)\n",
    "    fuga_periodo_6m_pp = Column(Float)\n",
    "    ent_fuga_mes = Column(String)\n",
    "    clas_ent_fuga_mes = Column(String)\n",
    "    ent_fuga_pp = Column(String)\n",
    "    clas_ent_fuga_pp = Column(String)\n",
    "    target_6m = Column(Integer)\n",
    "    flg_usar = Column(Integer)\n",
    "    otro_mes_sf_act = Column(Float)\n",
    "    otro_nentmes_sf_act = Column(Integer)\n",
    "    otro_lineames_sf_act = Column(Float)\n",
    "    otro_pp_sf_act = Column(Float)\n",
    "    otro_nentpp_sf_act = Column(Integer)\n",
    "    otro_lineapp_sf_act = Column(Float)\n",
    "    otro_tc_sf_act = Column(Float)\n",
    "    otro_nenttc_sf_act = Column(Integer)\n",
    "    otro_lineatc_sf_act = Column(Float)\n",
    "    otro_mes_sf_3um = Column(Float)\n",
    "    otro_nentmes_sf_3um = Column(Integer)\n",
    "    otro_lineames_sf_3um = Column(Float)\n",
    "    otro_pp_sf_3um = Column(Float)\n",
    "    otro_nentpp_sf_3um = Column(Integer)\n",
    "    otro_lineapp_sf_3um = Column(Float)\n",
    "    otro_tc_sf_3um = Column(Float)\n",
    "    otro_nenttc_sf_3um = Column(Integer)\n",
    "    otro_lineatc_sf_3um = Column(Float)\n",
    "    otro_mes_sf_6um = Column(Float)\n",
    "    otro_nentmes_sf_6um = Column(Integer)\n",
    "    otro_lineames_sf_6um = Column(Float)\n",
    "    otro_pp_sf_6um = Column(Float)\n",
    "    otro_nentpp_sf_6um = Column(Integer)\n",
    "    otro_lineapp_sf_6um = Column(Float)\n",
    "    otro_tc_sf_6um = Column(Float)\n",
    "    otro_nenttc_sf_6um = Column(Integer)\n",
    "    otro_lineatc_sf_6um = Column(Float)\n",
    "    sexo = Column(String)\n",
    "    edad = Column(Integer)\n",
    "    departamento = Column(String)\n",
    "    estcivil = Column(String)\n",
    "    gradoinst = Column(String)\n",
    "    monto_mes_ult = Column(Float)\n",
    "    cuota_mes_ult = Column(Float)\n",
    "    ncuotas_mes_ult = Column(Integer)\n",
    "    CuotasPagadas_mes_ult = Column(Integer)\n",
    "    Tasa_mes_ult = Column(Float)\n",
    "    fechadesembolso_ult = Column(Date)\n",
    "    diasmora_mes_ult = Column(Integer)\n",
    "    meses_ult_desemb_mes = Column(Integer)\n",
    "    nro_desemb_mes = Column(Integer)\n",
    "    monto_tot_mes = Column(Float)\n",
    "    monto_prom_mes = Column(Float)\n",
    "    nro_desemb_pp = Column(Integer)\n",
    "    monto_tot_pp = Column(Float)\n",
    "    monto_prom_pp = Column(Float)\n",
    "    saldomes_peer_act = Column(Float)\n",
    "    nent_me_peer_act = Column(Integer)\n",
    "    ratio_mes_peer_sf_act = Column(Float)\n",
    "    saldomes_peer_3um = Column(Float)\n",
    "    nent_me_peer_3um = Column(Integer)\n",
    "    ratio_mes_peer_sf_3um = Column(Float)\n",
    "    saldomes_peer_6um = Column(Float)\n",
    "    nent_me_peer_6um = Column(Integer)\n",
    "    ratio_mes_peer_sf_6um = Column(Float)\n",
    "    nprod_sf_act = Column(Integer)\n",
    "    nprod_sf_3u = Column(Integer)\n",
    "    nprod_sf_6u = Column(Integer)\n",
    "    mesescte_csf = Column(Integer)\n",
    "    mesescte_mes = Column(Integer)\n",
    "    fingreso_csf = Column(Date)\n",
    "    fingreso_mes = Column(Date)\n",
    "    otrosprod_csf_act = Column(Integer)\n",
    "    lineaotroprod_csf_act = Column(Float)\n",
    "    otrosprod_csf_3um = Column(Integer)\n",
    "    lineaotroprod_csf_3um = Column(Float)\n",
    "    otrosprod_csf_6um = Column(Integer)\n",
    "    lineaotroprod_csf_6um = Column(Float)\n",
    "    ventas_mensual = Column(Float)\n",
    "    patrimonio = Column(Float)\n",
    "    tipolocal = Column(String)\n",
    "    tipoactividad = Column(String)\n",
    "    actividadeconomica = Column(String)\n",
    "    tipovivienda = Column(String)\n",
    "    r_cuotapagada = Column(Float)\n",
    "    NodeID = Column(Integer)\n",
    "    PredictedValue = Column(Integer)\n",
    "    PredictedProbability_1 = Column(Float)\n",
    "    PredictedProbability_2 = Column(Float)\n",
    "    SampleAssignment = Column(String)\n",
    "\n",
    "    def __repr__(self):\n",
    "        return f\"<NegociosUno(numdoc='{self.numdoc}', departamento='{self.departamento}')>\"\n",
    "\n",
    "class NegociosDos(Base):\n",
    "    __tablename__ = 'negocios_dos'  # Nombre de la tabla desde el script anterior\n",
    "    __table_args__ = {'extend_existing': True}\n",
    "\n",
    "    tipdoc = Column(String)\n",
    "    numdoc = Column(String, primary_key=True)\n",
    "    fcre = Column(Date)\n",
    "    monto_mes_ini = Column(Float)\n",
    "    cuota_mes_ini = Column(Float)\n",
    "    ncuota_mes_ini = Column(Integer)\n",
    "    tasa_mes_ini = Column(Float)\n",
    "    saldo_mes_20151231 = Column(Float)\n",
    "    Flg_Refin_Jud_Cast_6m = Column(Integer)\n",
    "    per_perdida_6m = Column(String)\n",
    "    SALDO_ANTES_PERD_6m = Column(Float)\n",
    "    recuperado_flg_6m = Column(Integer)\n",
    "    recuperado_periodo_6m = Column(Integer)\n",
    "    fuga_periodo_6m = Column(Integer)\n",
    "    fuga_periodo_6m_pp = Column(Float)\n",
    "    ent_fuga_mes = Column(String)\n",
    "    clas_ent_fuga_mes = Column(String)\n",
    "    ent_fuga_pp = Column(String)\n",
    "    clas_ent_fuga_pp = Column(String)\n",
    "    target_6m = Column(Integer)\n",
    "    flg_usar = Column(Integer)\n",
    "    otro_mes_sf_act = Column(Float)\n",
    "    otro_nentmes_sf_act = Column(Integer)\n",
    "    otro_lineames_sf_act = Column(Float)\n",
    "    otro_pp_sf_act = Column(Float)\n",
    "    otro_nentpp_sf_act = Column(Integer)\n",
    "    otro_lineapp_sf_act = Column(Float)\n",
    "    otro_tc_sf_act = Column(Float)\n",
    "    otro_nenttc_sf_act = Column(Integer)\n",
    "    otro_lineatc_sf_act = Column(Float)\n",
    "    otro_mes_sf_3um = Column(Float)\n",
    "    otro_nentmes_sf_3um = Column(Integer)\n",
    "    otro_lineames_sf_3um = Column(Float)\n",
    "    otro_pp_sf_3um = Column(Float)\n",
    "    otro_nentpp_sf_3um = Column(Integer)\n",
    "    otro_lineapp_sf_3um = Column(Float)\n",
    "    otro_tc_sf_3um = Column(Float)\n",
    "    otro_nenttc_sf_3um = Column(Integer)\n",
    "    otro_lineatc_sf_3um = Column(Float)\n",
    "    otro_mes_sf_6um = Column(Float)\n",
    "    otro_nentmes_sf_6um = Column(Integer)\n",
    "    otro_lineames_sf_6um = Column(Float)\n",
    "    otro_pp_sf_6um = Column(Float)\n",
    "    otro_nentpp_sf_6um = Column(Integer)\n",
    "    otro_lineapp_sf_6um = Column(Float)\n",
    "    otro_tc_sf_6um = Column(Float)\n",
    "    otro_nenttc_sf_6um = Column(Integer)\n",
    "    otro_lineatc_sf_6um = Column(Float)\n",
    "    sexo = Column(String)\n",
    "    edad = Column(Integer)\n",
    "    departamento = Column(String)\n",
    "    estcivil = Column(String)\n",
    "    gradoinst = Column(String)\n",
    "    monto_mes_ult = Column(Float)\n",
    "    cuota_mes_ult = Column(Float)\n",
    "    ncuotas_mes_ult = Column(Integer)\n",
    "    CuotasPagadas_mes_ult = Column(Integer)\n",
    "    Tasa_mes_ult = Column(Float)\n",
    "    fechadesembolso_ult = Column(Date)\n",
    "    diasmora_mes_ult = Column(Integer)\n",
    "    meses_ult_desemb_mes = Column(Integer)\n",
    "    nro_desemb_mes = Column(Integer)\n",
    "    monto_tot_mes = Column(Float)\n",
    "    monto_prom_mes = Column(Float)\n",
    "    nro_desemb_pp = Column(Integer)\n",
    "    monto_tot_pp = Column(Float)\n",
    "    monto_prom_pp = Column(Float)\n",
    "    saldomes_peer_act = Column(Float)\n",
    "    nent_me_peer_act = Column(Integer)\n",
    "    ratio_mes_peer_sf_act = Column(Float)\n",
    "    saldomes_peer_3um = Column(Float)\n",
    "    nent_me_peer_3um = Column(Integer)\n",
    "    ratio_mes_peer_sf_3um = Column(Float)\n",
    "    saldomes_peer_6um = Column(Float)\n",
    "    nent_me_peer_6um = Column(Integer)\n",
    "    ratio_mes_peer_sf_6um = Column(Float)\n",
    "    nprod_sf_act = Column(Integer)\n",
    "    nprod_sf_3u = Column(Integer)\n",
    "    nprod_sf_6u = Column(Integer)\n",
    "    mesescte_csf = Column(Integer)\n",
    "    mesescte_mes = Column(Integer)\n",
    "    fingreso_csf = Column(Date)\n",
    "    fingreso_mes = Column(Date)\n",
    "    otrosprod_csf_act = Column(Integer)\n",
    "    lineaotroprod_csf_act = Column(Float)\n",
    "    otrosprod_csf_3um = Column(Integer)\n",
    "    lineaotroprod_csf_3um = Column(Float)\n",
    "    otrosprod_csf_6um = Column(Integer)\n",
    "    lineaotroprod_csf_6um = Column(Float)\n",
    "    ventas_mensual = Column(Float)\n",
    "    patrimonio = Column(Float)\n",
    "    tipolocal = Column(String)\n",
    "    tipoactividad = Column(String)\n",
    "    actividadeconomica = Column(String)\n",
    "    tipovivienda = Column(String)\n",
    "    r_cuotapagada = Column(Float)\n",
    "    NodeID = Column(Integer)\n",
    "    PredictedValue = Column(Integer)\n",
    "    PredictedProbability_1 = Column(Float)\n",
    "    PredictedProbability_2 = Column(Float)\n",
    "    SampleAssignment = Column(String)\n",
    "\n",
    "    def __repr__(self):\n",
    "        return f\"<NegociosDos(numdoc='{self.numdoc}', departamento='{self.departamento}')>\""
   ]
  },
  {
   "cell_type": "code",
   "execution_count": 17,
   "metadata": {
    "lines_to_next_cell": 1
   },
   "outputs": [
    {
     "ename": "NoForeignKeysError",
     "evalue": "Can't find any foreign key relationships between 'negocios_uno' and 'negocios_dos'.",
     "output_type": "error",
     "traceback": [
      "\u001b[1;31m---------------------------------------------------------------------------\u001b[0m",
      "\u001b[1;31mNoForeignKeysError\u001b[0m                        Traceback (most recent call last)",
      "\u001b[1;32m<ipython-input-17-29c14dc2a6bf>\u001b[0m in \u001b[0;36m<module>\u001b[1;34m\u001b[0m\n\u001b[0;32m      1\u001b[0m \u001b[1;31m# Asumimos que 'negocios_dos' tiene la misma estructura; ajusta si es necesario\u001b[0m\u001b[1;33m\u001b[0m\u001b[1;33m\u001b[0m\u001b[1;33m\u001b[0m\u001b[0m\n\u001b[1;32m----> 2\u001b[1;33m \u001b[1;32mclass\u001b[0m \u001b[0mNegociosDos\u001b[0m\u001b[1;33m(\u001b[0m\u001b[0mNegociosUno\u001b[0m\u001b[1;33m)\u001b[0m\u001b[1;33m:\u001b[0m\u001b[1;33m\u001b[0m\u001b[1;33m\u001b[0m\u001b[0m\n\u001b[0m\u001b[0;32m      3\u001b[0m     \u001b[0m__tablename__\u001b[0m \u001b[1;33m=\u001b[0m \u001b[1;34m'negocios_dos'\u001b[0m\u001b[1;33m\u001b[0m\u001b[1;33m\u001b[0m\u001b[0m\n",
      "\u001b[1;32m~\\Anaconda3\\lib\\site-packages\\sqlalchemy\\ext\\declarative\\api.py\u001b[0m in \u001b[0;36m__init__\u001b[1;34m(cls, classname, bases, dict_)\u001b[0m\n\u001b[0;32m     73\u001b[0m     \u001b[1;32mdef\u001b[0m \u001b[0m__init__\u001b[0m\u001b[1;33m(\u001b[0m\u001b[0mcls\u001b[0m\u001b[1;33m,\u001b[0m \u001b[0mclassname\u001b[0m\u001b[1;33m,\u001b[0m \u001b[0mbases\u001b[0m\u001b[1;33m,\u001b[0m \u001b[0mdict_\u001b[0m\u001b[1;33m)\u001b[0m\u001b[1;33m:\u001b[0m\u001b[1;33m\u001b[0m\u001b[1;33m\u001b[0m\u001b[0m\n\u001b[0;32m     74\u001b[0m         \u001b[1;32mif\u001b[0m \u001b[1;34m\"_decl_class_registry\"\u001b[0m \u001b[1;32mnot\u001b[0m \u001b[1;32min\u001b[0m \u001b[0mcls\u001b[0m\u001b[1;33m.\u001b[0m\u001b[0m__dict__\u001b[0m\u001b[1;33m:\u001b[0m\u001b[1;33m\u001b[0m\u001b[1;33m\u001b[0m\u001b[0m\n\u001b[1;32m---> 75\u001b[1;33m             \u001b[0m_as_declarative\u001b[0m\u001b[1;33m(\u001b[0m\u001b[0mcls\u001b[0m\u001b[1;33m,\u001b[0m \u001b[0mclassname\u001b[0m\u001b[1;33m,\u001b[0m \u001b[0mcls\u001b[0m\u001b[1;33m.\u001b[0m\u001b[0m__dict__\u001b[0m\u001b[1;33m)\u001b[0m\u001b[1;33m\u001b[0m\u001b[1;33m\u001b[0m\u001b[0m\n\u001b[0m\u001b[0;32m     76\u001b[0m         \u001b[0mtype\u001b[0m\u001b[1;33m.\u001b[0m\u001b[0m__init__\u001b[0m\u001b[1;33m(\u001b[0m\u001b[0mcls\u001b[0m\u001b[1;33m,\u001b[0m \u001b[0mclassname\u001b[0m\u001b[1;33m,\u001b[0m \u001b[0mbases\u001b[0m\u001b[1;33m,\u001b[0m \u001b[0mdict_\u001b[0m\u001b[1;33m)\u001b[0m\u001b[1;33m\u001b[0m\u001b[1;33m\u001b[0m\u001b[0m\n\u001b[0;32m     77\u001b[0m \u001b[1;33m\u001b[0m\u001b[0m\n",
      "\u001b[1;32m~\\Anaconda3\\lib\\site-packages\\sqlalchemy\\ext\\declarative\\base.py\u001b[0m in \u001b[0;36m_as_declarative\u001b[1;34m(cls, classname, dict_)\u001b[0m\n\u001b[0;32m    129\u001b[0m         \u001b[1;32mreturn\u001b[0m\u001b[1;33m\u001b[0m\u001b[1;33m\u001b[0m\u001b[0m\n\u001b[0;32m    130\u001b[0m \u001b[1;33m\u001b[0m\u001b[0m\n\u001b[1;32m--> 131\u001b[1;33m     \u001b[0m_MapperConfig\u001b[0m\u001b[1;33m.\u001b[0m\u001b[0msetup_mapping\u001b[0m\u001b[1;33m(\u001b[0m\u001b[0mcls\u001b[0m\u001b[1;33m,\u001b[0m \u001b[0mclassname\u001b[0m\u001b[1;33m,\u001b[0m \u001b[0mdict_\u001b[0m\u001b[1;33m)\u001b[0m\u001b[1;33m\u001b[0m\u001b[1;33m\u001b[0m\u001b[0m\n\u001b[0m\u001b[0;32m    132\u001b[0m \u001b[1;33m\u001b[0m\u001b[0m\n\u001b[0;32m    133\u001b[0m \u001b[1;33m\u001b[0m\u001b[0m\n",
      "\u001b[1;32m~\\Anaconda3\\lib\\site-packages\\sqlalchemy\\ext\\declarative\\base.py\u001b[0m in \u001b[0;36msetup_mapping\u001b[1;34m(cls, cls_, classname, dict_)\u001b[0m\n\u001b[0;32m    158\u001b[0m             \u001b[0mcfg_cls\u001b[0m \u001b[1;33m=\u001b[0m \u001b[0m_MapperConfig\u001b[0m\u001b[1;33m\u001b[0m\u001b[1;33m\u001b[0m\u001b[0m\n\u001b[0;32m    159\u001b[0m \u001b[1;33m\u001b[0m\u001b[0m\n\u001b[1;32m--> 160\u001b[1;33m         \u001b[0mcfg_cls\u001b[0m\u001b[1;33m(\u001b[0m\u001b[0mcls_\u001b[0m\u001b[1;33m,\u001b[0m \u001b[0mclassname\u001b[0m\u001b[1;33m,\u001b[0m \u001b[0mdict_\u001b[0m\u001b[1;33m)\u001b[0m\u001b[1;33m\u001b[0m\u001b[1;33m\u001b[0m\u001b[0m\n\u001b[0m\u001b[0;32m    161\u001b[0m \u001b[1;33m\u001b[0m\u001b[0m\n\u001b[0;32m    162\u001b[0m     \u001b[1;32mdef\u001b[0m \u001b[0m__init__\u001b[0m\u001b[1;33m(\u001b[0m\u001b[0mself\u001b[0m\u001b[1;33m,\u001b[0m \u001b[0mcls_\u001b[0m\u001b[1;33m,\u001b[0m \u001b[0mclassname\u001b[0m\u001b[1;33m,\u001b[0m \u001b[0mdict_\u001b[0m\u001b[1;33m)\u001b[0m\u001b[1;33m:\u001b[0m\u001b[1;33m\u001b[0m\u001b[1;33m\u001b[0m\u001b[0m\n",
      "\u001b[1;32m~\\Anaconda3\\lib\\site-packages\\sqlalchemy\\ext\\declarative\\base.py\u001b[0m in \u001b[0;36m__init__\u001b[1;34m(self, cls_, classname, dict_)\u001b[0m\n\u001b[0;32m    192\u001b[0m             \u001b[0mself\u001b[0m\u001b[1;33m.\u001b[0m\u001b[0m_setup_inheritance\u001b[0m\u001b[1;33m(\u001b[0m\u001b[1;33m)\u001b[0m\u001b[1;33m\u001b[0m\u001b[1;33m\u001b[0m\u001b[0m\n\u001b[0;32m    193\u001b[0m \u001b[1;33m\u001b[0m\u001b[0m\n\u001b[1;32m--> 194\u001b[1;33m             \u001b[0mself\u001b[0m\u001b[1;33m.\u001b[0m\u001b[0m_early_mapping\u001b[0m\u001b[1;33m(\u001b[0m\u001b[1;33m)\u001b[0m\u001b[1;33m\u001b[0m\u001b[1;33m\u001b[0m\u001b[0m\n\u001b[0m\u001b[0;32m    195\u001b[0m         \u001b[1;32mfinally\u001b[0m\u001b[1;33m:\u001b[0m\u001b[1;33m\u001b[0m\u001b[1;33m\u001b[0m\u001b[0m\n\u001b[0;32m    196\u001b[0m             \u001b[0mmapperlib\u001b[0m\u001b[1;33m.\u001b[0m\u001b[0m_CONFIGURE_MUTEX\u001b[0m\u001b[1;33m.\u001b[0m\u001b[0mrelease\u001b[0m\u001b[1;33m(\u001b[0m\u001b[1;33m)\u001b[0m\u001b[1;33m\u001b[0m\u001b[1;33m\u001b[0m\u001b[0m\n",
      "\u001b[1;32m~\\Anaconda3\\lib\\site-packages\\sqlalchemy\\ext\\declarative\\base.py\u001b[0m in \u001b[0;36m_early_mapping\u001b[1;34m(self)\u001b[0m\n\u001b[0;32m    197\u001b[0m \u001b[1;33m\u001b[0m\u001b[0m\n\u001b[0;32m    198\u001b[0m     \u001b[1;32mdef\u001b[0m \u001b[0m_early_mapping\u001b[0m\u001b[1;33m(\u001b[0m\u001b[0mself\u001b[0m\u001b[1;33m)\u001b[0m\u001b[1;33m:\u001b[0m\u001b[1;33m\u001b[0m\u001b[1;33m\u001b[0m\u001b[0m\n\u001b[1;32m--> 199\u001b[1;33m         \u001b[0mself\u001b[0m\u001b[1;33m.\u001b[0m\u001b[0mmap\u001b[0m\u001b[1;33m(\u001b[0m\u001b[1;33m)\u001b[0m\u001b[1;33m\u001b[0m\u001b[1;33m\u001b[0m\u001b[0m\n\u001b[0m\u001b[0;32m    200\u001b[0m \u001b[1;33m\u001b[0m\u001b[0m\n\u001b[0;32m    201\u001b[0m     \u001b[1;32mdef\u001b[0m \u001b[0m_setup_declared_events\u001b[0m\u001b[1;33m(\u001b[0m\u001b[0mself\u001b[0m\u001b[1;33m)\u001b[0m\u001b[1;33m:\u001b[0m\u001b[1;33m\u001b[0m\u001b[1;33m\u001b[0m\u001b[0m\n",
      "\u001b[1;32m~\\Anaconda3\\lib\\site-packages\\sqlalchemy\\ext\\declarative\\base.py\u001b[0m in \u001b[0;36mmap\u001b[1;34m(self)\u001b[0m\n\u001b[0;32m    694\u001b[0m \u001b[1;33m\u001b[0m\u001b[0m\n\u001b[0;32m    695\u001b[0m         self.cls.__mapper__ = mp_ = mapper_cls(\n\u001b[1;32m--> 696\u001b[1;33m             \u001b[0mself\u001b[0m\u001b[1;33m.\u001b[0m\u001b[0mcls\u001b[0m\u001b[1;33m,\u001b[0m \u001b[0mself\u001b[0m\u001b[1;33m.\u001b[0m\u001b[0mlocal_table\u001b[0m\u001b[1;33m,\u001b[0m \u001b[1;33m**\u001b[0m\u001b[0mself\u001b[0m\u001b[1;33m.\u001b[0m\u001b[0mmapper_args\u001b[0m\u001b[1;33m\u001b[0m\u001b[1;33m\u001b[0m\u001b[0m\n\u001b[0m\u001b[0;32m    697\u001b[0m         )\n\u001b[0;32m    698\u001b[0m         \u001b[1;32mdel\u001b[0m \u001b[0mself\u001b[0m\u001b[1;33m.\u001b[0m\u001b[0mcls\u001b[0m\u001b[1;33m.\u001b[0m\u001b[0m_sa_declared_attr_reg\u001b[0m\u001b[1;33m\u001b[0m\u001b[1;33m\u001b[0m\u001b[0m\n",
      "\u001b[1;32m<string>\u001b[0m in \u001b[0;36mmapper\u001b[1;34m(class_, local_table, properties, primary_key, non_primary, inherits, inherit_condition, inherit_foreign_keys, extension, order_by, always_refresh, version_id_col, version_id_generator, polymorphic_on, _polymorphic_map, polymorphic_identity, concrete, with_polymorphic, polymorphic_load, allow_partial_pks, batch, column_prefix, include_properties, exclude_properties, passive_updates, passive_deletes, confirm_deleted_rows, eager_defaults, legacy_is_orphan, _compiled_cache_size)\u001b[0m\n",
      "\u001b[1;32m<string>\u001b[0m in \u001b[0;36m__init__\u001b[1;34m(self, class_, local_table, properties, primary_key, non_primary, inherits, inherit_condition, inherit_foreign_keys, extension, order_by, always_refresh, version_id_col, version_id_generator, polymorphic_on, _polymorphic_map, polymorphic_identity, concrete, with_polymorphic, polymorphic_load, allow_partial_pks, batch, column_prefix, include_properties, exclude_properties, passive_updates, passive_deletes, confirm_deleted_rows, eager_defaults, legacy_is_orphan, _compiled_cache_size)\u001b[0m\n",
      "\u001b[1;32m~\\Anaconda3\\lib\\site-packages\\sqlalchemy\\util\\deprecations.py\u001b[0m in \u001b[0;36mwarned\u001b[1;34m(fn, *args, **kwargs)\u001b[0m\n\u001b[0;32m    126\u001b[0m                     )\n\u001b[0;32m    127\u001b[0m \u001b[1;33m\u001b[0m\u001b[0m\n\u001b[1;32m--> 128\u001b[1;33m             \u001b[1;32mreturn\u001b[0m \u001b[0mfn\u001b[0m\u001b[1;33m(\u001b[0m\u001b[1;33m*\u001b[0m\u001b[0margs\u001b[0m\u001b[1;33m,\u001b[0m \u001b[1;33m**\u001b[0m\u001b[0mkwargs\u001b[0m\u001b[1;33m)\u001b[0m\u001b[1;33m\u001b[0m\u001b[1;33m\u001b[0m\u001b[0m\n\u001b[0m\u001b[0;32m    129\u001b[0m \u001b[1;33m\u001b[0m\u001b[0m\n\u001b[0;32m    130\u001b[0m         \u001b[0mdoc\u001b[0m \u001b[1;33m=\u001b[0m \u001b[0mfn\u001b[0m\u001b[1;33m.\u001b[0m\u001b[0m__doc__\u001b[0m \u001b[1;32mis\u001b[0m \u001b[1;32mnot\u001b[0m \u001b[1;32mNone\u001b[0m \u001b[1;32mand\u001b[0m \u001b[0mfn\u001b[0m\u001b[1;33m.\u001b[0m\u001b[0m__doc__\u001b[0m \u001b[1;32mor\u001b[0m \u001b[1;34m\"\"\u001b[0m\u001b[1;33m\u001b[0m\u001b[1;33m\u001b[0m\u001b[0m\n",
      "\u001b[1;32m~\\Anaconda3\\lib\\site-packages\\sqlalchemy\\orm\\mapper.py\u001b[0m in \u001b[0;36m__init__\u001b[1;34m(self, class_, local_table, properties, primary_key, non_primary, inherits, inherit_condition, inherit_foreign_keys, extension, order_by, always_refresh, version_id_col, version_id_generator, polymorphic_on, _polymorphic_map, polymorphic_identity, concrete, with_polymorphic, polymorphic_load, allow_partial_pks, batch, column_prefix, include_properties, exclude_properties, passive_updates, passive_deletes, confirm_deleted_rows, eager_defaults, legacy_is_orphan, _compiled_cache_size)\u001b[0m\n\u001b[0;32m    708\u001b[0m         \u001b[1;32mtry\u001b[0m\u001b[1;33m:\u001b[0m\u001b[1;33m\u001b[0m\u001b[1;33m\u001b[0m\u001b[0m\n\u001b[0;32m    709\u001b[0m             \u001b[0mself\u001b[0m\u001b[1;33m.\u001b[0m\u001b[0mdispatch\u001b[0m\u001b[1;33m.\u001b[0m\u001b[0m_events\u001b[0m\u001b[1;33m.\u001b[0m\u001b[0m_new_mapper_instance\u001b[0m\u001b[1;33m(\u001b[0m\u001b[0mclass_\u001b[0m\u001b[1;33m,\u001b[0m \u001b[0mself\u001b[0m\u001b[1;33m)\u001b[0m\u001b[1;33m\u001b[0m\u001b[1;33m\u001b[0m\u001b[0m\n\u001b[1;32m--> 710\u001b[1;33m             \u001b[0mself\u001b[0m\u001b[1;33m.\u001b[0m\u001b[0m_configure_inheritance\u001b[0m\u001b[1;33m(\u001b[0m\u001b[1;33m)\u001b[0m\u001b[1;33m\u001b[0m\u001b[1;33m\u001b[0m\u001b[0m\n\u001b[0m\u001b[0;32m    711\u001b[0m             \u001b[0mself\u001b[0m\u001b[1;33m.\u001b[0m\u001b[0m_configure_legacy_instrument_class\u001b[0m\u001b[1;33m(\u001b[0m\u001b[1;33m)\u001b[0m\u001b[1;33m\u001b[0m\u001b[1;33m\u001b[0m\u001b[0m\n\u001b[0;32m    712\u001b[0m             \u001b[0mself\u001b[0m\u001b[1;33m.\u001b[0m\u001b[0m_configure_class_instrumentation\u001b[0m\u001b[1;33m(\u001b[0m\u001b[1;33m)\u001b[0m\u001b[1;33m\u001b[0m\u001b[1;33m\u001b[0m\u001b[0m\n",
      "\u001b[1;32m~\\Anaconda3\\lib\\site-packages\\sqlalchemy\\orm\\mapper.py\u001b[0m in \u001b[0;36m_configure_inheritance\u001b[1;34m(self)\u001b[0m\n\u001b[0;32m   1031\u001b[0m                         \u001b[1;31m# want (allows test/inheritance.InheritTest4 to pass)\u001b[0m\u001b[1;33m\u001b[0m\u001b[1;33m\u001b[0m\u001b[1;33m\u001b[0m\u001b[0m\n\u001b[0;32m   1032\u001b[0m                         self.inherit_condition = sql_util.join_condition(\n\u001b[1;32m-> 1033\u001b[1;33m                             \u001b[0mself\u001b[0m\u001b[1;33m.\u001b[0m\u001b[0minherits\u001b[0m\u001b[1;33m.\u001b[0m\u001b[0mlocal_table\u001b[0m\u001b[1;33m,\u001b[0m \u001b[0mself\u001b[0m\u001b[1;33m.\u001b[0m\u001b[0mlocal_table\u001b[0m\u001b[1;33m\u001b[0m\u001b[1;33m\u001b[0m\u001b[0m\n\u001b[0m\u001b[0;32m   1034\u001b[0m                         )\n\u001b[0;32m   1035\u001b[0m                     self.persist_selectable = sql.join(\n",
      "\u001b[1;32m<string>\u001b[0m in \u001b[0;36mjoin_condition\u001b[1;34m(a, b, ignore_nonexistent_tables, a_subset, consider_as_foreign_keys)\u001b[0m\n",
      "\u001b[1;32m<string>\u001b[0m in \u001b[0;36m_join_condition\u001b[1;34m(cls, a, b, ignore_nonexistent_tables, a_subset, consider_as_foreign_keys)\u001b[0m\n",
      "\u001b[1;32m~\\Anaconda3\\lib\\site-packages\\sqlalchemy\\util\\deprecations.py\u001b[0m in \u001b[0;36mwarned\u001b[1;34m(fn, *args, **kwargs)\u001b[0m\n\u001b[0;32m    126\u001b[0m                     )\n\u001b[0;32m    127\u001b[0m \u001b[1;33m\u001b[0m\u001b[0m\n\u001b[1;32m--> 128\u001b[1;33m             \u001b[1;32mreturn\u001b[0m \u001b[0mfn\u001b[0m\u001b[1;33m(\u001b[0m\u001b[1;33m*\u001b[0m\u001b[0margs\u001b[0m\u001b[1;33m,\u001b[0m \u001b[1;33m**\u001b[0m\u001b[0mkwargs\u001b[0m\u001b[1;33m)\u001b[0m\u001b[1;33m\u001b[0m\u001b[1;33m\u001b[0m\u001b[0m\n\u001b[0m\u001b[0;32m    129\u001b[0m \u001b[1;33m\u001b[0m\u001b[0m\n\u001b[0;32m    130\u001b[0m         \u001b[0mdoc\u001b[0m \u001b[1;33m=\u001b[0m \u001b[0mfn\u001b[0m\u001b[1;33m.\u001b[0m\u001b[0m__doc__\u001b[0m \u001b[1;32mis\u001b[0m \u001b[1;32mnot\u001b[0m \u001b[1;32mNone\u001b[0m \u001b[1;32mand\u001b[0m \u001b[0mfn\u001b[0m\u001b[1;33m.\u001b[0m\u001b[0m__doc__\u001b[0m \u001b[1;32mor\u001b[0m \u001b[1;34m\"\"\u001b[0m\u001b[1;33m\u001b[0m\u001b[1;33m\u001b[0m\u001b[0m\n",
      "\u001b[1;32m~\\Anaconda3\\lib\\site-packages\\sqlalchemy\\sql\\selectable.py\u001b[0m in \u001b[0;36m_join_condition\u001b[1;34m(cls, a, b, ignore_nonexistent_tables, a_subset, consider_as_foreign_keys)\u001b[0m\n\u001b[0;32m    945\u001b[0m                 \u001b[1;34m\"Can't find any foreign key relationships \"\u001b[0m\u001b[1;33m\u001b[0m\u001b[1;33m\u001b[0m\u001b[0m\n\u001b[0;32m    946\u001b[0m                 \u001b[1;34m\"between '%s' and '%s'.%s\"\u001b[0m\u001b[1;33m\u001b[0m\u001b[1;33m\u001b[0m\u001b[0m\n\u001b[1;32m--> 947\u001b[1;33m                 \u001b[1;33m%\u001b[0m \u001b[1;33m(\u001b[0m\u001b[0ma\u001b[0m\u001b[1;33m.\u001b[0m\u001b[0mdescription\u001b[0m\u001b[1;33m,\u001b[0m \u001b[0mb\u001b[0m\u001b[1;33m.\u001b[0m\u001b[0mdescription\u001b[0m\u001b[1;33m,\u001b[0m \u001b[0mhint\u001b[0m\u001b[1;33m)\u001b[0m\u001b[1;33m\u001b[0m\u001b[1;33m\u001b[0m\u001b[0m\n\u001b[0m\u001b[0;32m    948\u001b[0m             )\n\u001b[0;32m    949\u001b[0m \u001b[1;33m\u001b[0m\u001b[0m\n",
      "\u001b[1;31mNoForeignKeysError\u001b[0m: Can't find any foreign key relationships between 'negocios_uno' and 'negocios_dos'."
     ]
    }
   ],
   "source": [
    "# Asumimos que 'negocios_dos' tiene la misma estructura; ajusta si es necesario\n",
    "class NegociosDos(NegociosUno):\n",
    "    __tablename__ = 'negocios_dos'"
   ]
  },
  {
   "cell_type": "code",
   "execution_count": null,
   "metadata": {},
   "outputs": [],
   "source": [
    "# Reflexionar metadatos para tablas existentes\n",
    "metadata = db.MetaData()\n",
    "metadata.reflect(bind=engine)\n",
    "print(\"Conexión y metadatos configurados correctamente.\")"
   ]
  },
  {
   "cell_type": "markdown",
   "metadata": {},
   "source": [
    "# Realización de operaciones CRUD (Create, Read, Update, Delete) desde Python\n",
    "\n",
    "**Aspectos teóricos:** Las operaciones CRUD son fundamentales en la gestión de bases de datos relacionales. Representan:\n",
    "- **Create**: Insertar nuevos registros.\n",
    "- **Read**: Consultar y recuperar datos.\n",
    "- **Update**: Modificar registros existentes.\n",
    "- **Delete**: Eliminar registros.\n",
    "\n",
    "En SQLAlchemy, estas operaciones se realizan a través de sesiones ORM, lo que asegura atomicidad y consistencia (propiedades ACID). Esto evita errores comunes como inyecciones SQL al usar parámetros vinculados."
   ]
  },
  {
   "cell_type": "markdown",
   "metadata": {},
   "source": [
    "## Create: Insertar un nuevo registro"
   ]
  },
  {
   "cell_type": "code",
   "execution_count": null,
   "metadata": {},
   "outputs": [],
   "source": [
    "# Crear un nuevo registro en 'negocios_uno'\n",
    "nuevo_negocio = NegociosUno(\n",
    "    numdoc='123456789',  # Clave primaria única\n",
    "    departamento='Lima',\n",
    "    edad=30,\n",
    "    monto_mes_ini=1000.0,\n",
    "    # Agrega otros campos según sea necesario; valores por defecto o nulos para el resto\n",
    ")"
   ]
  },
  {
   "cell_type": "code",
   "execution_count": null,
   "metadata": {},
   "outputs": [],
   "source": [
    "session.add(nuevo_negocio)\n",
    "session.commit()\n",
    "print(\"Nuevo registro creado.\")"
   ]
  },
  {
   "cell_type": "markdown",
   "metadata": {},
   "source": [
    "## Read: Leer registros"
   ]
  },
  {
   "cell_type": "code",
   "execution_count": null,
   "metadata": {},
   "outputs": [],
   "source": [
    "# Leer los primeros 5 registros\n",
    "resultados = session.query(NegociosUno).limit(5).all()\n",
    "for row in resultados:\n",
    "    print(f\"Numdoc: {row.numdoc}, Departamento: {row.departamento}\")"
   ]
  },
  {
   "cell_type": "markdown",
   "metadata": {},
   "source": [
    "## Update: Actualizar un registro"
   ]
  },
  {
   "cell_type": "code",
   "execution_count": null,
   "metadata": {},
   "outputs": [],
   "source": [
    "# Actualizar un registro existente\n",
    "registro = session.query(NegociosUno).filter_by(numdoc='123456789').first()\n",
    "if registro:\n",
    "    registro.departamento = 'Arequipa'\n",
    "    session.commit()\n",
    "    print(\"Registro actualizado.\")\n",
    "else:\n",
    "    print(\"Registro no encontrado.\")"
   ]
  },
  {
   "cell_type": "markdown",
   "metadata": {},
   "source": [
    "## Delete: Eliminar un registro"
   ]
  },
  {
   "cell_type": "code",
   "execution_count": null,
   "metadata": {},
   "outputs": [],
   "source": [
    "# Eliminar el registro\n",
    "registro = session.query(NegociosUno).filter_by(numdoc='123456789').first()\n",
    "if registro:\n",
    "    session.delete(registro)\n",
    "    session.commit()\n",
    "    print(\"Registro eliminado.\")\n",
    "else:\n",
    "    print(\"Registro no encontrado.\")"
   ]
  },
  {
   "cell_type": "markdown",
   "metadata": {},
   "source": [
    "# Consultas avanzadas en SQLAlchemy (JOINs, filtrado, agrupación)\n",
    "\n",
    "**Aspectos teóricos:** Las consultas avanzadas permiten combinar datos de múltiples tablas (JOIN), aplicar condiciones (filtrado con WHERE), y resumir información (agrupación con GROUP BY). En bases relacionales, los JOINs mantienen la integridad referencial. SQLAlchemy soporta expresiones SQL nativas y sintaxis ORM, optimizando el rendimiento mediante lazy loading y eager loading."
   ]
  },
  {
   "cell_type": "markdown",
   "metadata": {},
   "source": [
    "## Filtrado"
   ]
  },
  {
   "cell_type": "code",
   "execution_count": null,
   "metadata": {},
   "outputs": [],
   "source": [
    "# Filtrar por edad > 30 y departamento = 'Lima'\n",
    "resultados = session.query(NegociosUno).filter(and_(NegociosUno.edad > 30, NegociosUno.departamento == 'Lima')).limit(5).all()\n",
    "for row in resultados:\n",
    "    print(f\"Numdoc: {row.numdoc}, Edad: {row.edad}\")"
   ]
  },
  {
   "cell_type": "markdown",
   "metadata": {},
   "source": [
    "## Agrupación y funciones agregadas"
   ]
  },
  {
   "cell_type": "code",
   "execution_count": null,
   "metadata": {},
   "outputs": [],
   "source": [
    "# Contar negocios por departamento\n",
    "resultados = session.query(NegociosUno.departamento, func.count(NegociosUno.numdoc)).group_by(NegociosUno.departamento).all()\n",
    "for dept, count in resultados:\n",
    "    print(f\"Departamento: {dept}, Count: {count}\")"
   ]
  },
  {
   "cell_type": "markdown",
   "metadata": {},
   "source": [
    "## JOIN (asumiendo join en 'numdoc' entre tablas)"
   ]
  },
  {
   "cell_type": "code",
   "execution_count": null,
   "metadata": {},
   "outputs": [],
   "source": [
    "# JOIN entre negocios_uno y negocios_dos en numdoc\n",
    "resultados = session.query(NegociosUno, NegociosDos).join(NegociosDos, NegociosUno.numdoc == NegociosDos.numdoc).limit(5).all()\n",
    "for uno, dos in resultados:\n",
    "    print(f\"Numdoc: {uno.numdoc}, Departamento Uno: {uno.departamento}, Departamento Dos: {dos.departamento}\")"
   ]
  },
  {
   "cell_type": "markdown",
   "metadata": {},
   "source": [
    "# Optimización de consultas en bases de datos relacionales\n",
    "\n",
    "**Aspectos teóricos:** La optimización implica reducir el tiempo de ejecución y uso de recursos. Técnicas incluyen:\n",
    "- **Índices**: Aceleran búsquedas en columnas frecuentes (O(log n) vs O(n)).\n",
    "- **EXPLAIN/ANALYZE**: Analiza planes de ejecución.\n",
    "- **Limitar resultados**: Usar LIMIT/OFFSET para paginación.\n",
    "- **Caching**: Almacenar resultados frecuentes.\n",
    "- **Normalización**: Evitar redundancias para reducir I/O.\n",
    "\n",
    "En SQLite, los índices son cruciales para tablas grandes."
   ]
  },
  {
   "cell_type": "markdown",
   "metadata": {},
   "source": [
    "## Crear un índice para optimización"
   ]
  },
  {
   "cell_type": "code",
   "execution_count": null,
   "metadata": {},
   "outputs": [],
   "source": [
    "# Crear índice en 'departamento' para acelerar filtros\n",
    "Index('idx_departamento', NegociosUno.departamento).create(bind=engine)\n",
    "print(\"Índice creado en 'departamento'.\")"
   ]
  },
  {
   "cell_type": "markdown",
   "metadata": {},
   "source": [
    "## Analizar una consulta (EXPLAIN)"
   ]
  },
  {
   "cell_type": "code",
   "execution_count": null,
   "metadata": {},
   "outputs": [],
   "source": [
    "# Ejecutar EXPLAIN en una consulta\n",
    "explain_result = session.execute(text(\"EXPLAIN QUERY PLAN SELECT * FROM negocios_uno WHERE departamento = 'Lima'\"))\n",
    "for row in explain_result:\n",
    "    print(row)"
   ]
  },
  {
   "cell_type": "markdown",
   "metadata": {},
   "source": [
    "# Ejercicio práctico: Optimización y consulta de grandes volúmenes de datos\n",
    "\n",
    "**Aspectos teóricos y prácticos:** Para grandes volúmenes, optimiza evitando full table scans. Usa índices, subconsultas eficientes y batch processing. Aquí, simulamos una consulta grande: contar y promediar montos por departamento, optimizando con índice."
   ]
  },
  {
   "cell_type": "markdown",
   "metadata": {},
   "source": [
    "## Consulta sin optimización (asumir full scan)"
   ]
  },
  {
   "cell_type": "code",
   "execution_count": null,
   "metadata": {},
   "outputs": [],
   "source": [
    "start_time = datetime.now()\n",
    "resultados = session.query(NegociosUno.departamento, func.count(NegociosUno.numdoc), func.avg(NegociosUno.monto_mes_ini)).group_by(NegociosUno.departamento).all()\n",
    "end_time = datetime.now()\n",
    "print(f\"Tiempo sin índice adicional: {end_time - start_time}\")\n",
    "for dept, count, avg in resultados:\n",
    "    print(f\"Departamento: {dept}, Count: {count}, Avg Monto: {avg}\")"
   ]
  },
  {
   "cell_type": "markdown",
   "metadata": {},
   "source": [
    "## Agregar índice en 'monto_mes_ini' y re-ejecutar"
   ]
  },
  {
   "cell_type": "code",
   "execution_count": null,
   "metadata": {},
   "outputs": [],
   "source": [
    "Index('idx_monto_mes_ini', NegociosUno.monto_mes_ini).create(bind=engine)\n",
    "print(\"Índice creado en 'monto_mes_ini'.\")"
   ]
  },
  {
   "cell_type": "code",
   "execution_count": null,
   "metadata": {},
   "outputs": [],
   "source": [
    "start_time = datetime.now()\n",
    "resultados = session.query(NegociosUno.departamento, func.count(NegociosUno.numdoc), func.avg(NegociosUno.monto_mes_ini)).group_by(NegociosUno.departamento).all()\n",
    "end_time = datetime.now()\n",
    "print(f\"Tiempo con índice: {end_time - start_time}\")\n",
    "for dept, count, avg in resultados:\n",
    "    print(f\"Departamento: {dept}, Count: {count}, Avg Monto: {avg}\")"
   ]
  },
  {
   "cell_type": "code",
   "execution_count": null,
   "metadata": {},
   "outputs": [],
   "source": [
    "# ## Cerrar la sesión\n",
    "session.close()\n",
    "print(\"Sesión cerrada.\")"
   ]
  }
 ],
 "metadata": {
  "kernelspec": {
   "display_name": "Python 3",
   "language": "python",
   "name": "python3"
  },
  "language_info": {
   "codemirror_mode": {
    "name": "ipython",
    "version": 3
   },
   "file_extension": ".py",
   "mimetype": "text/x-python",
   "name": "python",
   "nbconvert_exporter": "python",
   "pygments_lexer": "ipython3",
   "version": "3.7.4"
  }
 },
 "nbformat": 4,
 "nbformat_minor": 2
}
